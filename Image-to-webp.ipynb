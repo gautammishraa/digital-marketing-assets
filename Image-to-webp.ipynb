{
 "metadata": {
  "language_info": {
   "codemirror_mode": {
    "name": "ipython",
    "version": 3
   },
   "file_extension": ".py",
   "mimetype": "text/x-python",
   "name": "python",
   "nbconvert_exporter": "python",
   "pygments_lexer": "ipython3",
   "version": "3.9.2-final"
  },
  "orig_nbformat": 2,
  "kernelspec": {
   "name": "python3",
   "display_name": "Python 3.9.2 64-bit",
   "metadata": {
    "interpreter": {
     "hash": "aee8b7b246df8f9039afb4144a1f6fd8d2ca17a180786b69acc140d282b71a49"
    }
   }
  }
 },
 "nbformat": 4,
 "nbformat_minor": 2,
 "cells": [
  {
   "source": [
    "### Necessary Packages"
   ],
   "cell_type": "markdown",
   "metadata": {}
  },
  {
   "cell_type": "code",
   "execution_count": null,
   "metadata": {},
   "outputs": [],
   "source": [
    "from PIL import Image\n",
    "import PIL\n",
    "import glob\n",
    "import os\n",
    "import wget\n",
    "import pandas as pd"
   ]
  },
  {
   "source": [
    "### Downloading Images"
   ],
   "cell_type": "markdown",
   "metadata": {}
  },
  {
   "cell_type": "code",
   "execution_count": null,
   "metadata": {},
   "outputs": [],
   "source": [
    "# Reading the file comprising the list of URLs\n",
    "path = '/Users/gautammishra/Works/2. IFB - Modular Kitchen/March 2021/Images/Home_Page_Images.csv'\n",
    "df = pd.read_csv(path)\n",
    "\n",
    "for i in range(len(df)):\n",
    "    print('Downloading #:',i+1)\n",
    "    image_url = df['URL'][i]\n",
    "    image_filename = wget.download(image_url)"
   ]
  },
  {
   "source": [
    "### Get the list of Files in the current directory"
   ],
   "cell_type": "markdown",
   "metadata": {}
  },
  {
   "cell_type": "code",
   "execution_count": null,
   "metadata": {},
   "outputs": [],
   "source": [
    "folder = ''\n",
    "files = os.listdir(folder)"
   ]
  },
  {
   "source": [
    "### Get the list of Images with .jpg and .png extensions"
   ],
   "cell_type": "markdown",
   "metadata": {}
  },
  {
   "cell_type": "code",
   "execution_count": null,
   "metadata": {},
   "outputs": [],
   "source": [
    "images = [file for file in files if file.endswith(('jpg', 'png'))]"
   ]
  },
  {
   "source": [
    "### Defining Function to Convert images to WebP\n",
    "<b>steps</b>\n",
    "<li> Open Image</li>\n",
    "<li> convert image to 'RGB'\n",
    "<li> Get the image name by spliting at extenstion and using item at index = 0\n",
    "<li> Save the image by assigning the format (webp)"
   ],
   "cell_type": "markdown",
   "metadata": {}
  },
  {
   "cell_type": "code",
   "execution_count": null,
   "metadata": {},
   "outputs": [],
   "source": [
    "class Error(Exception):\n",
    "    \"\"\"Base class for other exceptions\"\"\"\n",
    "    pass\n",
    "\n",
    "def convert_image(image_path, image_type):\n",
    "    im = Image.open(image_path)\n",
    "    im = im.convert('RGB')\n",
    "    image_name = image_path.split('.')[0]\n",
    "\n",
    "    if image_type == 'jpg' or image_type == 'png':\n",
    "        im.save(f\"{image_name}.webp\", 'webp')\n",
    "    else:\n",
    "        raise Error"
   ]
  },
  {
   "source": [
    "### Run the Query"
   ],
   "cell_type": "markdown",
   "metadata": {}
  },
  {
   "cell_type": "code",
   "execution_count": null,
   "metadata": {},
   "outputs": [],
   "source": [
    "for image in images:\n",
    "    if image.endswith('jpg'):\n",
    "        convert_image(image, image_type='jpg')\n",
    "    elif image.endswith('png'):\n",
    "        convert_image(image, image_type='png')\n",
    "    else:\n",
    "        raise Error"
   ]
  }
 ]
}